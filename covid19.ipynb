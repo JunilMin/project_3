{
  "nbformat": 4,
  "nbformat_minor": 0,
  "metadata": {
    "colab": {
      "name": "Untitled11.ipynb",
      "provenance": [],
      "authorship_tag": "ABX9TyMrLBtC3j1Pzonr/LJMnSRN",
      "include_colab_link": true
    },
    "kernelspec": {
      "name": "python3",
      "display_name": "Python 3"
    },
    "language_info": {
      "name": "python"
    }
  },
  "cells": [
    {
      "cell_type": "markdown",
      "metadata": {
        "id": "view-in-github",
        "colab_type": "text"
      },
      "source": [
        "<a href=\"https://colab.research.google.com/github/alswnsdlf/project_3/blob/main/covid19.ipynb\" target=\"_parent\"><img src=\"https://colab.research.google.com/assets/colab-badge.svg\" alt=\"Open In Colab\"/></a>"
      ]
    },
    {
      "cell_type": "code",
      "metadata": {
        "id": "OkCaFgyGQLuY"
      },
      "source": [
        "%%capture\n",
        "import sys\n",
        "\n",
        "if 'google.colab' in sys.modules:\n",
        "    # Install packages in Colab\n",
        "    !pip install category_encoders==2.*\n",
        "    !pip install eli5\n",
        "    !pip install pandas-profiling==2.*\n",
        "    !pip install pdpbox\n",
        "    !pip install shap"
      ],
      "execution_count": null,
      "outputs": []
    },
    {
      "cell_type": "code",
      "metadata": {
        "colab": {
          "base_uri": "https://localhost:8080/"
        },
        "id": "nWmKTLCqQM9n",
        "outputId": "48f0039b-31a9-4e4c-d569-530965f6f3ff"
      },
      "source": [
        "import numpy as np\n",
        "import pandas as pd\n",
        "import matplotlib.pyplot as plt\n",
        "import seaborn as sns\n",
        "from sklearn.metrics import r2_score\n",
        "import sqlite3\n",
        "import psycopg2"
      ],
      "execution_count": null,
      "outputs": [
        {
          "output_type": "stream",
          "name": "stderr",
          "text": [
            "/usr/local/lib/python3.7/dist-packages/psycopg2/__init__.py:144: UserWarning: The psycopg2 wheel package will be renamed from release 2.8; in order to keep installing from binary please use \"pip install psycopg2-binary\" instead. For details see: <http://initd.org/psycopg/docs/install.html#binary-install-from-pypi>.\n",
            "  \"\"\")\n"
          ]
        }
      ]
    },
    {
      "cell_type": "code",
      "metadata": {
        "colab": {
          "base_uri": "https://localhost:8080/"
        },
        "id": "F8xSYwmiQN_C",
        "outputId": "ef344afc-aec2-4211-82e4-291a47c0857e"
      },
      "source": [
        "from sklearn.model_selection import train_test_split\n",
        "import seaborn as sns\n",
        "import matplotlib.pyplot as plt\n",
        "from category_encoders import OneHotEncoder\n",
        "from sklearn.feature_selection import f_regression, SelectKBest\n",
        "from sklearn.impute import SimpleImputer\n",
        "from sklearn.linear_model import Ridge\n",
        "from sklearn.model_selection import cross_val_score\n",
        "from sklearn.pipeline import make_pipeline\n",
        "from sklearn.preprocessing import StandardScaler\n",
        "from sklearn.pipeline import make_pipeline\n",
        "from category_encoders import OrdinalEncoder\n",
        "from sklearn.impute import SimpleImputer\n",
        "from sklearn.ensemble import RandomForestClassifier\n",
        "from sklearn.metrics import accuracy_score\n",
        "from sklearn.metrics import recall_score, precision_score, f1_score\n",
        "from sklearn.pipeline import Pipeline\n",
        "from sklearn.pipeline import make_pipeline\n",
        "from xgboost import XGBClassifier\n",
        "from sklearn.impute import SimpleImputer\n",
        "from category_encoders import OrdinalEncoder\n",
        "from eli5.sklearn import PermutationImportance\n",
        "from xgboost import XGBClassifier"
      ],
      "execution_count": null,
      "outputs": [
        {
          "output_type": "stream",
          "name": "stderr",
          "text": [
            "/usr/local/lib/python3.7/dist-packages/statsmodels/tools/_testing.py:19: FutureWarning: pandas.util.testing is deprecated. Use the functions in the public API at pandas.testing instead.\n",
            "  import pandas.util.testing as tm\n",
            "/usr/local/lib/python3.7/dist-packages/sklearn/utils/deprecation.py:144: FutureWarning: The sklearn.feature_selection.base module is  deprecated in version 0.22 and will be removed in version 0.24. The corresponding classes / functions should instead be imported from sklearn.feature_selection. Anything that cannot be imported from sklearn.feature_selection is now part of the private API.\n",
            "  warnings.warn(message, FutureWarning)\n"
          ]
        }
      ]
    },
    {
      "cell_type": "code",
      "metadata": {
        "id": "mTMoUGVOQQDS"
      },
      "source": [
        "from pandas.io.parsers import read_csv"
      ],
      "execution_count": null,
      "outputs": []
    },
    {
      "cell_type": "code",
      "metadata": {
        "id": "ujsrDLg7QRti"
      },
      "source": [
        "import tensorflow as tf\n",
        "import numpy as np\n",
        "from pandas.io.parsers import read_csv\n",
        "import io"
      ],
      "execution_count": null,
      "outputs": []
    },
    {
      "cell_type": "code",
      "metadata": {
        "colab": {
          "resources": {
            "http://localhost:8080/nbextensions/google.colab/files.js": {
              "data": "Ly8gQ29weXJpZ2h0IDIwMTcgR29vZ2xlIExMQwovLwovLyBMaWNlbnNlZCB1bmRlciB0aGUgQXBhY2hlIExpY2Vuc2UsIFZlcnNpb24gMi4wICh0aGUgIkxpY2Vuc2UiKTsKLy8geW91IG1heSBub3QgdXNlIHRoaXMgZmlsZSBleGNlcHQgaW4gY29tcGxpYW5jZSB3aXRoIHRoZSBMaWNlbnNlLgovLyBZb3UgbWF5IG9idGFpbiBhIGNvcHkgb2YgdGhlIExpY2Vuc2UgYXQKLy8KLy8gICAgICBodHRwOi8vd3d3LmFwYWNoZS5vcmcvbGljZW5zZXMvTElDRU5TRS0yLjAKLy8KLy8gVW5sZXNzIHJlcXVpcmVkIGJ5IGFwcGxpY2FibGUgbGF3IG9yIGFncmVlZCB0byBpbiB3cml0aW5nLCBzb2Z0d2FyZQovLyBkaXN0cmlidXRlZCB1bmRlciB0aGUgTGljZW5zZSBpcyBkaXN0cmlidXRlZCBvbiBhbiAiQVMgSVMiIEJBU0lTLAovLyBXSVRIT1VUIFdBUlJBTlRJRVMgT1IgQ09ORElUSU9OUyBPRiBBTlkgS0lORCwgZWl0aGVyIGV4cHJlc3Mgb3IgaW1wbGllZC4KLy8gU2VlIHRoZSBMaWNlbnNlIGZvciB0aGUgc3BlY2lmaWMgbGFuZ3VhZ2UgZ292ZXJuaW5nIHBlcm1pc3Npb25zIGFuZAovLyBsaW1pdGF0aW9ucyB1bmRlciB0aGUgTGljZW5zZS4KCi8qKgogKiBAZmlsZW92ZXJ2aWV3IEhlbHBlcnMgZm9yIGdvb2dsZS5jb2xhYiBQeXRob24gbW9kdWxlLgogKi8KKGZ1bmN0aW9uKHNjb3BlKSB7CmZ1bmN0aW9uIHNwYW4odGV4dCwgc3R5bGVBdHRyaWJ1dGVzID0ge30pIHsKICBjb25zdCBlbGVtZW50ID0gZG9jdW1lbnQuY3JlYXRlRWxlbWVudCgnc3BhbicpOwogIGVsZW1lbnQudGV4dENvbnRlbnQgPSB0ZXh0OwogIGZvciAoY29uc3Qga2V5IG9mIE9iamVjdC5rZXlzKHN0eWxlQXR0cmlidXRlcykpIHsKICAgIGVsZW1lbnQuc3R5bGVba2V5XSA9IHN0eWxlQXR0cmlidXRlc1trZXldOwogIH0KICByZXR1cm4gZWxlbWVudDsKfQoKLy8gTWF4IG51bWJlciBvZiBieXRlcyB3aGljaCB3aWxsIGJlIHVwbG9hZGVkIGF0IGEgdGltZS4KY29uc3QgTUFYX1BBWUxPQURfU0laRSA9IDEwMCAqIDEwMjQ7CgpmdW5jdGlvbiBfdXBsb2FkRmlsZXMoaW5wdXRJZCwgb3V0cHV0SWQpIHsKICBjb25zdCBzdGVwcyA9IHVwbG9hZEZpbGVzU3RlcChpbnB1dElkLCBvdXRwdXRJZCk7CiAgY29uc3Qgb3V0cHV0RWxlbWVudCA9IGRvY3VtZW50LmdldEVsZW1lbnRCeUlkKG91dHB1dElkKTsKICAvLyBDYWNoZSBzdGVwcyBvbiB0aGUgb3V0cHV0RWxlbWVudCB0byBtYWtlIGl0IGF2YWlsYWJsZSBmb3IgdGhlIG5leHQgY2FsbAogIC8vIHRvIHVwbG9hZEZpbGVzQ29udGludWUgZnJvbSBQeXRob24uCiAgb3V0cHV0RWxlbWVudC5zdGVwcyA9IHN0ZXBzOwoKICByZXR1cm4gX3VwbG9hZEZpbGVzQ29udGludWUob3V0cHV0SWQpOwp9CgovLyBUaGlzIGlzIHJvdWdobHkgYW4gYXN5bmMgZ2VuZXJhdG9yIChub3Qgc3VwcG9ydGVkIGluIHRoZSBicm93c2VyIHlldCksCi8vIHdoZXJlIHRoZXJlIGFyZSBtdWx0aXBsZSBhc3luY2hyb25vdXMgc3RlcHMgYW5kIHRoZSBQeXRob24gc2lkZSBpcyBnb2luZwovLyB0byBwb2xsIGZvciBjb21wbGV0aW9uIG9mIGVhY2ggc3RlcC4KLy8gVGhpcyB1c2VzIGEgUHJvbWlzZSB0byBibG9jayB0aGUgcHl0aG9uIHNpZGUgb24gY29tcGxldGlvbiBvZiBlYWNoIHN0ZXAsCi8vIHRoZW4gcGFzc2VzIHRoZSByZXN1bHQgb2YgdGhlIHByZXZpb3VzIHN0ZXAgYXMgdGhlIGlucHV0IHRvIHRoZSBuZXh0IHN0ZXAuCmZ1bmN0aW9uIF91cGxvYWRGaWxlc0NvbnRpbnVlKG91dHB1dElkKSB7CiAgY29uc3Qgb3V0cHV0RWxlbWVudCA9IGRvY3VtZW50LmdldEVsZW1lbnRCeUlkKG91dHB1dElkKTsKICBjb25zdCBzdGVwcyA9IG91dHB1dEVsZW1lbnQuc3RlcHM7CgogIGNvbnN0IG5leHQgPSBzdGVwcy5uZXh0KG91dHB1dEVsZW1lbnQubGFzdFByb21pc2VWYWx1ZSk7CiAgcmV0dXJuIFByb21pc2UucmVzb2x2ZShuZXh0LnZhbHVlLnByb21pc2UpLnRoZW4oKHZhbHVlKSA9PiB7CiAgICAvLyBDYWNoZSB0aGUgbGFzdCBwcm9taXNlIHZhbHVlIHRvIG1ha2UgaXQgYXZhaWxhYmxlIHRvIHRoZSBuZXh0CiAgICAvLyBzdGVwIG9mIHRoZSBnZW5lcmF0b3IuCiAgICBvdXRwdXRFbGVtZW50Lmxhc3RQcm9taXNlVmFsdWUgPSB2YWx1ZTsKICAgIHJldHVybiBuZXh0LnZhbHVlLnJlc3BvbnNlOwogIH0pOwp9CgovKioKICogR2VuZXJhdG9yIGZ1bmN0aW9uIHdoaWNoIGlzIGNhbGxlZCBiZXR3ZWVuIGVhY2ggYXN5bmMgc3RlcCBvZiB0aGUgdXBsb2FkCiAqIHByb2Nlc3MuCiAqIEBwYXJhbSB7c3RyaW5nfSBpbnB1dElkIEVsZW1lbnQgSUQgb2YgdGhlIGlucHV0IGZpbGUgcGlja2VyIGVsZW1lbnQuCiAqIEBwYXJhbSB7c3RyaW5nfSBvdXRwdXRJZCBFbGVtZW50IElEIG9mIHRoZSBvdXRwdXQgZGlzcGxheS4KICogQHJldHVybiB7IUl0ZXJhYmxlPCFPYmplY3Q+fSBJdGVyYWJsZSBvZiBuZXh0IHN0ZXBzLgogKi8KZnVuY3Rpb24qIHVwbG9hZEZpbGVzU3RlcChpbnB1dElkLCBvdXRwdXRJZCkgewogIGNvbnN0IGlucHV0RWxlbWVudCA9IGRvY3VtZW50LmdldEVsZW1lbnRCeUlkKGlucHV0SWQpOwogIGlucHV0RWxlbWVudC5kaXNhYmxlZCA9IGZhbHNlOwoKICBjb25zdCBvdXRwdXRFbGVtZW50ID0gZG9jdW1lbnQuZ2V0RWxlbWVudEJ5SWQob3V0cHV0SWQpOwogIG91dHB1dEVsZW1lbnQuaW5uZXJIVE1MID0gJyc7CgogIGNvbnN0IHBpY2tlZFByb21pc2UgPSBuZXcgUHJvbWlzZSgocmVzb2x2ZSkgPT4gewogICAgaW5wdXRFbGVtZW50LmFkZEV2ZW50TGlzdGVuZXIoJ2NoYW5nZScsIChlKSA9PiB7CiAgICAgIHJlc29sdmUoZS50YXJnZXQuZmlsZXMpOwogICAgfSk7CiAgfSk7CgogIGNvbnN0IGNhbmNlbCA9IGRvY3VtZW50LmNyZWF0ZUVsZW1lbnQoJ2J1dHRvbicpOwogIGlucHV0RWxlbWVudC5wYXJlbnRFbGVtZW50LmFwcGVuZENoaWxkKGNhbmNlbCk7CiAgY2FuY2VsLnRleHRDb250ZW50ID0gJ0NhbmNlbCB1cGxvYWQnOwogIGNvbnN0IGNhbmNlbFByb21pc2UgPSBuZXcgUHJvbWlzZSgocmVzb2x2ZSkgPT4gewogICAgY2FuY2VsLm9uY2xpY2sgPSAoKSA9PiB7CiAgICAgIHJlc29sdmUobnVsbCk7CiAgICB9OwogIH0pOwoKICAvLyBXYWl0IGZvciB0aGUgdXNlciB0byBwaWNrIHRoZSBmaWxlcy4KICBjb25zdCBmaWxlcyA9IHlpZWxkIHsKICAgIHByb21pc2U6IFByb21pc2UucmFjZShbcGlja2VkUHJvbWlzZSwgY2FuY2VsUHJvbWlzZV0pLAogICAgcmVzcG9uc2U6IHsKICAgICAgYWN0aW9uOiAnc3RhcnRpbmcnLAogICAgfQogIH07CgogIGNhbmNlbC5yZW1vdmUoKTsKCiAgLy8gRGlzYWJsZSB0aGUgaW5wdXQgZWxlbWVudCBzaW5jZSBmdXJ0aGVyIHBpY2tzIGFyZSBub3QgYWxsb3dlZC4KICBpbnB1dEVsZW1lbnQuZGlzYWJsZWQgPSB0cnVlOwoKICBpZiAoIWZpbGVzKSB7CiAgICByZXR1cm4gewogICAgICByZXNwb25zZTogewogICAgICAgIGFjdGlvbjogJ2NvbXBsZXRlJywKICAgICAgfQogICAgfTsKICB9CgogIGZvciAoY29uc3QgZmlsZSBvZiBmaWxlcykgewogICAgY29uc3QgbGkgPSBkb2N1bWVudC5jcmVhdGVFbGVtZW50KCdsaScpOwogICAgbGkuYXBwZW5kKHNwYW4oZmlsZS5uYW1lLCB7Zm9udFdlaWdodDogJ2JvbGQnfSkpOwogICAgbGkuYXBwZW5kKHNwYW4oCiAgICAgICAgYCgke2ZpbGUudHlwZSB8fCAnbi9hJ30pIC0gJHtmaWxlLnNpemV9IGJ5dGVzLCBgICsKICAgICAgICBgbGFzdCBtb2RpZmllZDogJHsKICAgICAgICAgICAgZmlsZS5sYXN0TW9kaWZpZWREYXRlID8gZmlsZS5sYXN0TW9kaWZpZWREYXRlLnRvTG9jYWxlRGF0ZVN0cmluZygpIDoKICAgICAgICAgICAgICAgICAgICAgICAgICAgICAgICAgICAgJ24vYSd9IC0gYCkpOwogICAgY29uc3QgcGVyY2VudCA9IHNwYW4oJzAlIGRvbmUnKTsKICAgIGxpLmFwcGVuZENoaWxkKHBlcmNlbnQpOwoKICAgIG91dHB1dEVsZW1lbnQuYXBwZW5kQ2hpbGQobGkpOwoKICAgIGNvbnN0IGZpbGVEYXRhUHJvbWlzZSA9IG5ldyBQcm9taXNlKChyZXNvbHZlKSA9PiB7CiAgICAgIGNvbnN0IHJlYWRlciA9IG5ldyBGaWxlUmVhZGVyKCk7CiAgICAgIHJlYWRlci5vbmxvYWQgPSAoZSkgPT4gewogICAgICAgIHJlc29sdmUoZS50YXJnZXQucmVzdWx0KTsKICAgICAgfTsKICAgICAgcmVhZGVyLnJlYWRBc0FycmF5QnVmZmVyKGZpbGUpOwogICAgfSk7CiAgICAvLyBXYWl0IGZvciB0aGUgZGF0YSB0byBiZSByZWFkeS4KICAgIGxldCBmaWxlRGF0YSA9IHlpZWxkIHsKICAgICAgcHJvbWlzZTogZmlsZURhdGFQcm9taXNlLAogICAgICByZXNwb25zZTogewogICAgICAgIGFjdGlvbjogJ2NvbnRpbnVlJywKICAgICAgfQogICAgfTsKCiAgICAvLyBVc2UgYSBjaHVua2VkIHNlbmRpbmcgdG8gYXZvaWQgbWVzc2FnZSBzaXplIGxpbWl0cy4gU2VlIGIvNjIxMTU2NjAuCiAgICBsZXQgcG9zaXRpb24gPSAwOwogICAgZG8gewogICAgICBjb25zdCBsZW5ndGggPSBNYXRoLm1pbihmaWxlRGF0YS5ieXRlTGVuZ3RoIC0gcG9zaXRpb24sIE1BWF9QQVlMT0FEX1NJWkUpOwogICAgICBjb25zdCBjaHVuayA9IG5ldyBVaW50OEFycmF5KGZpbGVEYXRhLCBwb3NpdGlvbiwgbGVuZ3RoKTsKICAgICAgcG9zaXRpb24gKz0gbGVuZ3RoOwoKICAgICAgY29uc3QgYmFzZTY0ID0gYnRvYShTdHJpbmcuZnJvbUNoYXJDb2RlLmFwcGx5KG51bGwsIGNodW5rKSk7CiAgICAgIHlpZWxkIHsKICAgICAgICByZXNwb25zZTogewogICAgICAgICAgYWN0aW9uOiAnYXBwZW5kJywKICAgICAgICAgIGZpbGU6IGZpbGUubmFtZSwKICAgICAgICAgIGRhdGE6IGJhc2U2NCwKICAgICAgICB9LAogICAgICB9OwoKICAgICAgbGV0IHBlcmNlbnREb25lID0gZmlsZURhdGEuYnl0ZUxlbmd0aCA9PT0gMCA/CiAgICAgICAgICAxMDAgOgogICAgICAgICAgTWF0aC5yb3VuZCgocG9zaXRpb24gLyBmaWxlRGF0YS5ieXRlTGVuZ3RoKSAqIDEwMCk7CiAgICAgIHBlcmNlbnQudGV4dENvbnRlbnQgPSBgJHtwZXJjZW50RG9uZX0lIGRvbmVgOwoKICAgIH0gd2hpbGUgKHBvc2l0aW9uIDwgZmlsZURhdGEuYnl0ZUxlbmd0aCk7CiAgfQoKICAvLyBBbGwgZG9uZS4KICB5aWVsZCB7CiAgICByZXNwb25zZTogewogICAgICBhY3Rpb246ICdjb21wbGV0ZScsCiAgICB9CiAgfTsKfQoKc2NvcGUuZ29vZ2xlID0gc2NvcGUuZ29vZ2xlIHx8IHt9OwpzY29wZS5nb29nbGUuY29sYWIgPSBzY29wZS5nb29nbGUuY29sYWIgfHwge307CnNjb3BlLmdvb2dsZS5jb2xhYi5fZmlsZXMgPSB7CiAgX3VwbG9hZEZpbGVzLAogIF91cGxvYWRGaWxlc0NvbnRpbnVlLAp9Owp9KShzZWxmKTsK",
              "ok": true,
              "headers": [
                [
                  "content-type",
                  "application/javascript"
                ]
              ],
              "status": 200,
              "status_text": ""
            }
          },
          "base_uri": "https://localhost:8080/",
          "height": 75
        },
        "id": "ixpf2-8kQSyQ",
        "outputId": "5fa9cc4d-588c-4291-b49a-a62fb7c52e6c"
      },
      "source": [
        "from google.colab import files\n",
        "myfile = files.upload()"
      ],
      "execution_count": 167,
      "outputs": [
        {
          "output_type": "display_data",
          "data": {
            "text/html": [
              "\n",
              "     <input type=\"file\" id=\"files-9ef6ed91-dc4d-4eba-afcb-8a2c019e3efa\" name=\"files[]\" multiple disabled\n",
              "        style=\"border:none\" />\n",
              "     <output id=\"result-9ef6ed91-dc4d-4eba-afcb-8a2c019e3efa\">\n",
              "      Upload widget is only available when the cell has been executed in the\n",
              "      current browser session. Please rerun this cell to enable.\n",
              "      </output>\n",
              "      <script src=\"/nbextensions/google.colab/files.js\"></script> "
            ],
            "text/plain": [
              "<IPython.core.display.HTML object>"
            ]
          },
          "metadata": {}
        },
        {
          "output_type": "stream",
          "name": "stdout",
          "text": [
            "Saving coronaa.csv to coronaa.csv\n"
          ]
        }
      ]
    },
    {
      "cell_type": "code",
      "metadata": {
        "colab": {
          "base_uri": "https://localhost:8080/",
          "height": 434
        },
        "id": "5hE_15QLQT9A",
        "outputId": "364645f8-2128-495b-c097-b93785122637"
      },
      "source": [
        "df = pd.read_csv('coronaa.csv')\n",
        "df"
      ],
      "execution_count": 168,
      "outputs": [
        {
          "output_type": "execute_result",
          "data": {
            "text/html": [
              "<div>\n",
              "<style scoped>\n",
              "    .dataframe tbody tr th:only-of-type {\n",
              "        vertical-align: middle;\n",
              "    }\n",
              "\n",
              "    .dataframe tbody tr th {\n",
              "        vertical-align: top;\n",
              "    }\n",
              "\n",
              "    .dataframe thead th {\n",
              "        text-align: right;\n",
              "    }\n",
              "</style>\n",
              "<table border=\"1\" class=\"dataframe\">\n",
              "  <thead>\n",
              "    <tr style=\"text-align: right;\">\n",
              "      <th></th>\n",
              "      <th>rainfall(mm)</th>\n",
              "      <th>avgT</th>\n",
              "      <th>LowT</th>\n",
              "      <th>HighT</th>\n",
              "      <th>seoulDiag</th>\n",
              "      <th>seoulDadd</th>\n",
              "      <th>under_treatment</th>\n",
              "      <th>cured</th>\n",
              "      <th>dead</th>\n",
              "      <th>sus_patient</th>\n",
              "      <th>sus_patient_checking</th>\n",
              "      <th>sus_pat_negative</th>\n",
              "    </tr>\n",
              "  </thead>\n",
              "  <tbody>\n",
              "    <tr>\n",
              "      <th>0</th>\n",
              "      <td>6.7</td>\n",
              "      <td>7.4</td>\n",
              "      <td>6.5</td>\n",
              "      <td>8.2</td>\n",
              "      <td>10</td>\n",
              "      <td>0</td>\n",
              "      <td>10</td>\n",
              "      <td>0</td>\n",
              "      <td>0</td>\n",
              "      <td>741</td>\n",
              "      <td>77</td>\n",
              "      <td>664</td>\n",
              "    </tr>\n",
              "    <tr>\n",
              "      <th>1</th>\n",
              "      <td>0.0</td>\n",
              "      <td>6.5</td>\n",
              "      <td>4.9</td>\n",
              "      <td>8.7</td>\n",
              "      <td>10</td>\n",
              "      <td>0</td>\n",
              "      <td>10</td>\n",
              "      <td>0</td>\n",
              "      <td>0</td>\n",
              "      <td>802</td>\n",
              "      <td>61</td>\n",
              "      <td>741</td>\n",
              "    </tr>\n",
              "    <tr>\n",
              "      <th>2</th>\n",
              "      <td>0.0</td>\n",
              "      <td>8.1</td>\n",
              "      <td>3.2</td>\n",
              "      <td>14.7</td>\n",
              "      <td>10</td>\n",
              "      <td>0</td>\n",
              "      <td>10</td>\n",
              "      <td>0</td>\n",
              "      <td>0</td>\n",
              "      <td>840</td>\n",
              "      <td>38</td>\n",
              "      <td>802</td>\n",
              "    </tr>\n",
              "    <tr>\n",
              "      <th>3</th>\n",
              "      <td>2.0</td>\n",
              "      <td>9.8</td>\n",
              "      <td>6.2</td>\n",
              "      <td>15.6</td>\n",
              "      <td>10</td>\n",
              "      <td>0</td>\n",
              "      <td>10</td>\n",
              "      <td>0</td>\n",
              "      <td>0</td>\n",
              "      <td>864</td>\n",
              "      <td>24</td>\n",
              "      <td>840</td>\n",
              "    </tr>\n",
              "    <tr>\n",
              "      <th>4</th>\n",
              "      <td>13.4</td>\n",
              "      <td>-1.4</td>\n",
              "      <td>-4.3</td>\n",
              "      <td>7.7</td>\n",
              "      <td>11</td>\n",
              "      <td>0</td>\n",
              "      <td>11</td>\n",
              "      <td>0</td>\n",
              "      <td>0</td>\n",
              "      <td>876</td>\n",
              "      <td>13</td>\n",
              "      <td>863</td>\n",
              "    </tr>\n",
              "    <tr>\n",
              "      <th>...</th>\n",
              "      <td>...</td>\n",
              "      <td>...</td>\n",
              "      <td>...</td>\n",
              "      <td>...</td>\n",
              "      <td>...</td>\n",
              "      <td>...</td>\n",
              "      <td>...</td>\n",
              "      <td>...</td>\n",
              "      <td>...</td>\n",
              "      <td>...</td>\n",
              "      <td>...</td>\n",
              "      <td>...</td>\n",
              "    </tr>\n",
              "    <tr>\n",
              "      <th>437</th>\n",
              "      <td>0.0</td>\n",
              "      <td>23.6</td>\n",
              "      <td>21.7</td>\n",
              "      <td>26.5</td>\n",
              "      <td>104033</td>\n",
              "      <td>521</td>\n",
              "      <td>14786</td>\n",
              "      <td>88585</td>\n",
              "      <td>662</td>\n",
              "      <td>0</td>\n",
              "      <td>0</td>\n",
              "      <td>0</td>\n",
              "    </tr>\n",
              "    <tr>\n",
              "      <th>438</th>\n",
              "      <td>6.4</td>\n",
              "      <td>18.8</td>\n",
              "      <td>17.9</td>\n",
              "      <td>21.7</td>\n",
              "      <td>104723</td>\n",
              "      <td>690</td>\n",
              "      <td>14497</td>\n",
              "      <td>89560</td>\n",
              "      <td>666</td>\n",
              "      <td>0</td>\n",
              "      <td>0</td>\n",
              "      <td>0</td>\n",
              "    </tr>\n",
              "    <tr>\n",
              "      <th>439</th>\n",
              "      <td>4.6</td>\n",
              "      <td>19.4</td>\n",
              "      <td>17.9</td>\n",
              "      <td>21.9</td>\n",
              "      <td>105558</td>\n",
              "      <td>837</td>\n",
              "      <td>14573</td>\n",
              "      <td>90316</td>\n",
              "      <td>669</td>\n",
              "      <td>0</td>\n",
              "      <td>0</td>\n",
              "      <td>0</td>\n",
              "    </tr>\n",
              "    <tr>\n",
              "      <th>440</th>\n",
              "      <td>3.5</td>\n",
              "      <td>18.8</td>\n",
              "      <td>17.5</td>\n",
              "      <td>20.0</td>\n",
              "      <td>106332</td>\n",
              "      <td>776</td>\n",
              "      <td>13591</td>\n",
              "      <td>92067</td>\n",
              "      <td>674</td>\n",
              "      <td>0</td>\n",
              "      <td>0</td>\n",
              "      <td>0</td>\n",
              "    </tr>\n",
              "    <tr>\n",
              "      <th>441</th>\n",
              "      <td>0.4</td>\n",
              "      <td>20.9</td>\n",
              "      <td>18.5</td>\n",
              "      <td>24.1</td>\n",
              "      <td>107041</td>\n",
              "      <td>712</td>\n",
              "      <td>12609</td>\n",
              "      <td>93754</td>\n",
              "      <td>678</td>\n",
              "      <td>0</td>\n",
              "      <td>0</td>\n",
              "      <td>0</td>\n",
              "    </tr>\n",
              "  </tbody>\n",
              "</table>\n",
              "<p>442 rows × 12 columns</p>\n",
              "</div>"
            ],
            "text/plain": [
              "     rainfall(mm)  avgT  ...  sus_patient_checking  sus_pat_negative\n",
              "0             6.7   7.4  ...                    77               664\n",
              "1             0.0   6.5  ...                    61               741\n",
              "2             0.0   8.1  ...                    38               802\n",
              "3             2.0   9.8  ...                    24               840\n",
              "4            13.4  -1.4  ...                    13               863\n",
              "..            ...   ...  ...                   ...               ...\n",
              "437           0.0  23.6  ...                     0                 0\n",
              "438           6.4  18.8  ...                     0                 0\n",
              "439           4.6  19.4  ...                     0                 0\n",
              "440           3.5  18.8  ...                     0                 0\n",
              "441           0.4  20.9  ...                     0                 0\n",
              "\n",
              "[442 rows x 12 columns]"
            ]
          },
          "metadata": {},
          "execution_count": 168
        }
      ]
    },
    {
      "cell_type": "code",
      "metadata": {
        "id": "nUHijzCnXeJ2"
      },
      "source": [
        "def dd(x):\n",
        "  if x >= 1:\n",
        "    return 0\n",
        "  else :\n",
        "    return 1\n",
        "\n",
        "df['rainfall(mm)'] = df['rainfall(mm)'].apply(dd)"
      ],
      "execution_count": 169,
      "outputs": []
    },
    {
      "cell_type": "code",
      "metadata": {
        "colab": {
          "base_uri": "https://localhost:8080/"
        },
        "id": "iFHVD39KQ_ck",
        "outputId": "adf27ded-de8a-48cf-98c4-cf930dd93c8e"
      },
      "source": [
        "df.info()"
      ],
      "execution_count": 171,
      "outputs": [
        {
          "output_type": "stream",
          "name": "stdout",
          "text": [
            "<class 'pandas.core.frame.DataFrame'>\n",
            "RangeIndex: 442 entries, 0 to 441\n",
            "Data columns (total 12 columns):\n",
            " #   Column                Non-Null Count  Dtype  \n",
            "---  ------                --------------  -----  \n",
            " 0   rainfall(mm)          442 non-null    int64  \n",
            " 1   avgT                  442 non-null    float64\n",
            " 2   LowT                  442 non-null    float64\n",
            " 3   HighT                 442 non-null    float64\n",
            " 4   seoulDiag             442 non-null    int64  \n",
            " 5   seoulDadd             442 non-null    int64  \n",
            " 6   under_treatment       442 non-null    int64  \n",
            " 7   cured                 442 non-null    int64  \n",
            " 8   dead                  442 non-null    int64  \n",
            " 9   sus_patient           442 non-null    int64  \n",
            " 10  sus_patient_checking  442 non-null    int64  \n",
            " 11  sus_pat_negative      442 non-null    int64  \n",
            "dtypes: float64(3), int64(9)\n",
            "memory usage: 41.6 KB\n"
          ]
        }
      ]
    },
    {
      "cell_type": "code",
      "metadata": {
        "colab": {
          "base_uri": "https://localhost:8080/"
        },
        "id": "m_9zOxJwRDPT",
        "outputId": "9508c757-c159-4ebb-bdc5-d2a7bc2cdc03"
      },
      "source": [
        "df.isna().sum().sort_values()"
      ],
      "execution_count": 172,
      "outputs": [
        {
          "output_type": "execute_result",
          "data": {
            "text/plain": [
              "rainfall(mm)            0\n",
              "avgT                    0\n",
              "LowT                    0\n",
              "HighT                   0\n",
              "seoulDiag               0\n",
              "seoulDadd               0\n",
              "under_treatment         0\n",
              "cured                   0\n",
              "dead                    0\n",
              "sus_patient             0\n",
              "sus_patient_checking    0\n",
              "sus_pat_negative        0\n",
              "dtype: int64"
            ]
          },
          "metadata": {},
          "execution_count": 172
        }
      ]
    },
    {
      "cell_type": "code",
      "metadata": {
        "id": "h16Tg_plRE5k"
      },
      "source": [
        "from category_encoders import OneHotEncoder\n",
        "from sklearn.impute import SimpleImputer\n",
        "from sklearn.preprocessing import StandardScaler\n",
        "from sklearn.linear_model import LogisticRegression\n",
        "from sklearn.pipeline import make_pipeline\n",
        "from sklearn.pipeline import Pipeline"
      ],
      "execution_count": 173,
      "outputs": []
    },
    {
      "cell_type": "code",
      "metadata": {
        "id": "tJnGu2Y1RHji"
      },
      "source": [
        "from sklearn.preprocessing import LabelEncoder\n",
        "from category_encoders import OneHotEncoder\n",
        "from sklearn.feature_selection import f_regression, SelectKBest\n",
        "from sklearn.impute import SimpleImputer\n",
        "from sklearn.linear_model import Ridge\n",
        "from sklearn.model_selection import cross_val_score\n",
        "from sklearn.preprocessing import StandardScaler\n",
        "from sklearn.pipeline import make_pipeline\n",
        "from category_encoders import OrdinalEncoder\n",
        "from sklearn.ensemble import RandomForestClassifier\n",
        "from sklearn.metrics import accuracy_score\n",
        "from sklearn.metrics import recall_score, precision_score, f1_score\n",
        "from sklearn.pipeline import Pipeline\n",
        "from xgboost import XGBClassifier\n",
        "from eli5.sklearn import PermutationImportance\n",
        "from sklearn.metrics import classification_report\n",
        "from sklearn.model_selection import RandomizedSearchCV\n",
        "from sklearn.ensemble import RandomForestRegressor\n",
        "from sklearn.compose import TransformedTargetRegressor"
      ],
      "execution_count": 174,
      "outputs": []
    },
    {
      "cell_type": "code",
      "metadata": {
        "id": "8SqHGn_lRjh5"
      },
      "source": [
        "target = 'rainfall(mm)'"
      ],
      "execution_count": 175,
      "outputs": []
    },
    {
      "cell_type": "code",
      "metadata": {
        "colab": {
          "base_uri": "https://localhost:8080/"
        },
        "id": "acxiiasxRlkK",
        "outputId": "b212651c-632e-44a0-84f3-72b52e642a3b"
      },
      "source": [
        "from sklearn.model_selection import train_test_split\n",
        "\n",
        "train, test = train_test_split(df, train_size=0.6, test_size=0.4, random_state=2)\n",
        "train.shape, test.shape"
      ],
      "execution_count": 176,
      "outputs": [
        {
          "output_type": "execute_result",
          "data": {
            "text/plain": [
              "((265, 12), (177, 12))"
            ]
          },
          "metadata": {},
          "execution_count": 176
        }
      ]
    },
    {
      "cell_type": "code",
      "metadata": {
        "colab": {
          "base_uri": "https://localhost:8080/"
        },
        "id": "VLe5_EtYRm1Z",
        "outputId": "69d6c39d-b5e8-438e-9735-ae5a44e461fe"
      },
      "source": [
        "train, val = train_test_split(train, test_size=0.2, stratify=train[target], random_state=2)\n",
        "train.shape, val.shape, test.shape"
      ],
      "execution_count": 177,
      "outputs": [
        {
          "output_type": "execute_result",
          "data": {
            "text/plain": [
              "((212, 12), (53, 12), (177, 12))"
            ]
          },
          "metadata": {},
          "execution_count": 177
        }
      ]
    },
    {
      "cell_type": "code",
      "metadata": {
        "id": "VPCoUQK8RnsK"
      },
      "source": [
        "features = train.columns.drop([target])\n",
        "X_train = train[features]\n",
        "y_train = train[target]\n",
        "X_val = val[features]\n",
        "y_val = val[target]\n",
        "X_test = test[features]\n",
        "y_test = test[target]"
      ],
      "execution_count": 178,
      "outputs": []
    },
    {
      "cell_type": "code",
      "metadata": {
        "colab": {
          "base_uri": "https://localhost:8080/"
        },
        "id": "HOqvRHryRom2",
        "outputId": "7118764b-1c31-4ce2-c724-5a6953f2644a"
      },
      "source": [
        "X_train = train[features]\n",
        "X_train.value_counts(normalize=True)"
      ],
      "execution_count": 179,
      "outputs": [
        {
          "output_type": "execute_result",
          "data": {
            "text/plain": [
              "avgT   LowT   HighT  seoulDiag  seoulDadd  under_treatment  cured  dead  sus_patient  sus_patient_checking  sus_pat_negative\n",
              " 29.8   26.8   34.3  64359      476        7760             56065  534   0            0                     0                   0.004717\n",
              " 13.3   8.5    18.4  5395       19         859              4475   61    0            0                     0                   0.004717\n",
              " 13.1   9.9    17.1  629        1          244              383    2     109708       5340                  104368              0.004717\n",
              " 13.0   10.1   17.1  750        14         159              587    4     152205       8590                  143615              0.004717\n",
              "        7.2    18.0  33441      244        2469             30541  431   0            0                     0                   0.004717\n",
              "                                                                                                                                  ...   \n",
              " 22.0   17.4   26.2  92532      676        11394            80518  620   0            0                     0                   0.004717\n",
              "        16.9   27.7  40118      223        2762             36890  466   0            0                     0                   0.004717\n",
              " 21.9   19.7   26.5  916        20         268              644    4     200509       8797                  191712              0.004717\n",
              "        19.6   25.0  47133      201        2547             44082  504   0            0                     0                   0.004717\n",
              "-14.9  -18.6  -10.7  21088      191        8060             12805  223   0            0                     0                   0.004717\n",
              "Length: 212, dtype: float64"
            ]
          },
          "metadata": {},
          "execution_count": 179
        }
      ]
    },
    {
      "cell_type": "code",
      "metadata": {
        "colab": {
          "base_uri": "https://localhost:8080/",
          "height": 416
        },
        "id": "AawQ7RljRpir",
        "outputId": "52a9cb29-9c04-42df-c632-cefd93c38cfc"
      },
      "source": [
        "train.describe().T"
      ],
      "execution_count": 180,
      "outputs": [
        {
          "output_type": "execute_result",
          "data": {
            "text/html": [
              "<div>\n",
              "<style scoped>\n",
              "    .dataframe tbody tr th:only-of-type {\n",
              "        vertical-align: middle;\n",
              "    }\n",
              "\n",
              "    .dataframe tbody tr th {\n",
              "        vertical-align: top;\n",
              "    }\n",
              "\n",
              "    .dataframe thead th {\n",
              "        text-align: right;\n",
              "    }\n",
              "</style>\n",
              "<table border=\"1\" class=\"dataframe\">\n",
              "  <thead>\n",
              "    <tr style=\"text-align: right;\">\n",
              "      <th></th>\n",
              "      <th>count</th>\n",
              "      <th>mean</th>\n",
              "      <th>std</th>\n",
              "      <th>min</th>\n",
              "      <th>25%</th>\n",
              "      <th>50%</th>\n",
              "      <th>75%</th>\n",
              "      <th>max</th>\n",
              "    </tr>\n",
              "  </thead>\n",
              "  <tbody>\n",
              "    <tr>\n",
              "      <th>rainfall(mm)</th>\n",
              "      <td>212.0</td>\n",
              "      <td>0.660377</td>\n",
              "      <td>0.474702</td>\n",
              "      <td>0.0</td>\n",
              "      <td>0.000</td>\n",
              "      <td>1.00</td>\n",
              "      <td>1.00</td>\n",
              "      <td>1.0</td>\n",
              "    </tr>\n",
              "    <tr>\n",
              "      <th>avgT</th>\n",
              "      <td>212.0</td>\n",
              "      <td>15.450943</td>\n",
              "      <td>9.861907</td>\n",
              "      <td>-14.9</td>\n",
              "      <td>10.150</td>\n",
              "      <td>18.45</td>\n",
              "      <td>23.70</td>\n",
              "      <td>29.8</td>\n",
              "    </tr>\n",
              "    <tr>\n",
              "      <th>LowT</th>\n",
              "      <td>212.0</td>\n",
              "      <td>11.654245</td>\n",
              "      <td>10.403009</td>\n",
              "      <td>-18.6</td>\n",
              "      <td>5.400</td>\n",
              "      <td>13.70</td>\n",
              "      <td>20.10</td>\n",
              "      <td>26.8</td>\n",
              "    </tr>\n",
              "    <tr>\n",
              "      <th>HighT</th>\n",
              "      <td>212.0</td>\n",
              "      <td>19.888208</td>\n",
              "      <td>9.736023</td>\n",
              "      <td>-10.7</td>\n",
              "      <td>14.675</td>\n",
              "      <td>22.95</td>\n",
              "      <td>27.15</td>\n",
              "      <td>34.3</td>\n",
              "    </tr>\n",
              "    <tr>\n",
              "      <th>seoulDiag</th>\n",
              "      <td>212.0</td>\n",
              "      <td>22819.740566</td>\n",
              "      <td>27740.760309</td>\n",
              "      <td>10.0</td>\n",
              "      <td>1425.750</td>\n",
              "      <td>6773.50</td>\n",
              "      <td>38860.75</td>\n",
              "      <td>107041.0</td>\n",
              "    </tr>\n",
              "    <tr>\n",
              "      <th>seoulDadd</th>\n",
              "      <td>212.0</td>\n",
              "      <td>158.533019</td>\n",
              "      <td>204.729237</td>\n",
              "      <td>0.0</td>\n",
              "      <td>13.000</td>\n",
              "      <td>102.50</td>\n",
              "      <td>205.00</td>\n",
              "      <td>1054.0</td>\n",
              "    </tr>\n",
              "    <tr>\n",
              "      <th>under_treatment</th>\n",
              "      <td>212.0</td>\n",
              "      <td>2806.117925</td>\n",
              "      <td>3548.912998</td>\n",
              "      <td>10.0</td>\n",
              "      <td>313.000</td>\n",
              "      <td>1727.00</td>\n",
              "      <td>3618.25</td>\n",
              "      <td>14786.0</td>\n",
              "    </tr>\n",
              "    <tr>\n",
              "      <th>cured</th>\n",
              "      <td>212.0</td>\n",
              "      <td>19794.858491</td>\n",
              "      <td>24498.793632</td>\n",
              "      <td>0.0</td>\n",
              "      <td>1215.000</td>\n",
              "      <td>5879.50</td>\n",
              "      <td>35623.00</td>\n",
              "      <td>93754.0</td>\n",
              "    </tr>\n",
              "    <tr>\n",
              "      <th>dead</th>\n",
              "      <td>212.0</td>\n",
              "      <td>218.764151</td>\n",
              "      <td>228.607242</td>\n",
              "      <td>0.0</td>\n",
              "      <td>9.000</td>\n",
              "      <td>81.00</td>\n",
              "      <td>453.25</td>\n",
              "      <td>678.0</td>\n",
              "    </tr>\n",
              "    <tr>\n",
              "      <th>sus_patient</th>\n",
              "      <td>212.0</td>\n",
              "      <td>66272.018868</td>\n",
              "      <td>117305.319094</td>\n",
              "      <td>0.0</td>\n",
              "      <td>0.000</td>\n",
              "      <td>0.00</td>\n",
              "      <td>101889.00</td>\n",
              "      <td>364796.0</td>\n",
              "    </tr>\n",
              "    <tr>\n",
              "      <th>sus_patient_checking</th>\n",
              "      <td>212.0</td>\n",
              "      <td>2440.787736</td>\n",
              "      <td>3936.109544</td>\n",
              "      <td>0.0</td>\n",
              "      <td>0.000</td>\n",
              "      <td>0.00</td>\n",
              "      <td>5277.00</td>\n",
              "      <td>11202.0</td>\n",
              "    </tr>\n",
              "    <tr>\n",
              "      <th>sus_pat_negative</th>\n",
              "      <td>212.0</td>\n",
              "      <td>63870.731132</td>\n",
              "      <td>113545.604465</td>\n",
              "      <td>0.0</td>\n",
              "      <td>0.000</td>\n",
              "      <td>0.00</td>\n",
              "      <td>96621.00</td>\n",
              "      <td>354190.0</td>\n",
              "    </tr>\n",
              "  </tbody>\n",
              "</table>\n",
              "</div>"
            ],
            "text/plain": [
              "                      count          mean  ...        75%       max\n",
              "rainfall(mm)          212.0      0.660377  ...       1.00       1.0\n",
              "avgT                  212.0     15.450943  ...      23.70      29.8\n",
              "LowT                  212.0     11.654245  ...      20.10      26.8\n",
              "HighT                 212.0     19.888208  ...      27.15      34.3\n",
              "seoulDiag             212.0  22819.740566  ...   38860.75  107041.0\n",
              "seoulDadd             212.0    158.533019  ...     205.00    1054.0\n",
              "under_treatment       212.0   2806.117925  ...    3618.25   14786.0\n",
              "cured                 212.0  19794.858491  ...   35623.00   93754.0\n",
              "dead                  212.0    218.764151  ...     453.25     678.0\n",
              "sus_patient           212.0  66272.018868  ...  101889.00  364796.0\n",
              "sus_patient_checking  212.0   2440.787736  ...    5277.00   11202.0\n",
              "sus_pat_negative      212.0  63870.731132  ...   96621.00  354190.0\n",
              "\n",
              "[12 rows x 8 columns]"
            ]
          },
          "metadata": {},
          "execution_count": 180
        }
      ]
    },
    {
      "cell_type": "code",
      "metadata": {
        "colab": {
          "base_uri": "https://localhost:8080/"
        },
        "id": "ClFXJylxRqpx",
        "outputId": "4775ac9c-5dc4-4ca9-8315-17f66cc9b049"
      },
      "source": [
        "y_train = train[target]\n",
        "y_train.value_counts(normalize=True)"
      ],
      "execution_count": 181,
      "outputs": [
        {
          "output_type": "execute_result",
          "data": {
            "text/plain": [
              "1    0.660377\n",
              "0    0.339623\n",
              "Name: rainfall(mm), dtype: float64"
            ]
          },
          "metadata": {},
          "execution_count": 181
        }
      ]
    },
    {
      "cell_type": "code",
      "metadata": {
        "colab": {
          "base_uri": "https://localhost:8080/",
          "height": 278
        },
        "id": "v5Nd9g40Rrso",
        "outputId": "ef8d79f5-566b-4714-fcc0-f9a36aa27397"
      },
      "source": [
        "import seaborn as sns\n",
        "import matplotlib.pyplot as plt\n",
        "%matplotlib inline\n",
        "sns.countplot(x=y_train);"
      ],
      "execution_count": 182,
      "outputs": [
        {
          "output_type": "display_data",
          "data": {
            "image/png": "[encoded data removed]",
            "text/plain": [
              "<Figure size 432x288 with 1 Axes>"
            ]
          },
          "metadata": {
            "needs_background": "light"
          }
        }
      ]
    },
    {
      "cell_type": "code",
      "metadata": {
        "id": "XThE_6ctRv2_"
      },
      "source": [
        "from xgboost import XGBClassifier\n",
        "from sklearn.metrics import classification_report\n",
        "from sklearn.model_selection import RandomizedSearchCV\n",
        "from category_encoders import OrdinalEncoder\n",
        "from sklearn.impute import SimpleImputer\n",
        "from sklearn.ensemble import RandomForestRegressor\n",
        "from sklearn.compose import TransformedTargetRegressor\n",
        "from scipy.stats import randint, uniform"
      ],
      "execution_count": 183,
      "outputs": []
    },
    {
      "cell_type": "code",
      "metadata": {
        "colab": {
          "base_uri": "https://localhost:8080/"
        },
        "id": "8gpkAqdNRuI6",
        "outputId": "1277708e-0845-40fc-d27d-41f9c6e3b350"
      },
      "source": [
        "pipe = make_pipeline(\n",
        "    OrdinalEncoder(), \n",
        "    SimpleImputer(), \n",
        "    RandomForestClassifier(random_state=10)\n",
        ")\n",
        "\n",
        "dists = {\n",
        "    'simpleimputer__strategy': ['mean', 'median'], \n",
        "    'randomforestclassifier__n_estimators': randint(10, 140, 200), \n",
        "    'randomforestclassifier__max_depth': [5, 10, 15, 20, 100, 200, None], \n",
        "    'randomforestclassifier__max_features': uniform(0, 1)\n",
        "}\n",
        "\n",
        "clf = RandomizedSearchCV(\n",
        "    pipe, \n",
        "    param_distributions=dists, \n",
        "    n_iter=100, \n",
        "    cv=3,\n",
        "    scoring='neg_mean_absolute_error',\n",
        "    verbose=1,\n",
        "    n_jobs=-1\n",
        ")\n",
        "\n",
        "clf.fit(X_train, y_train);"
      ],
      "execution_count": 213,
      "outputs": [
        {
          "output_type": "stream",
          "name": "stdout",
          "text": [
            "Fitting 3 folds for each of 100 candidates, totalling 300 fits\n"
          ]
        },
        {
          "output_type": "stream",
          "name": "stderr",
          "text": [
            "[Parallel(n_jobs=-1)]: Using backend LokyBackend with 2 concurrent workers.\n",
            "[Parallel(n_jobs=-1)]: Done  46 tasks      | elapsed:   19.2s\n",
            "[Parallel(n_jobs=-1)]: Done 196 tasks      | elapsed:  1.2min\n",
            "[Parallel(n_jobs=-1)]: Done 300 out of 300 | elapsed:  1.9min finished\n"
          ]
        }
      ]
    },
    {
      "cell_type": "code",
      "metadata": {
        "colab": {
          "base_uri": "https://localhost:8080/"
        },
        "id": "fSt802vBRxlo",
        "outputId": "7ca4974a-4335-43f9-e0c4-5ef2c78f1fdd"
      },
      "source": [
        "print('최적 하이퍼파라미터: ', clf.best_params_)\n",
        "print('MAE: ', -clf.best_score_)"
      ],
      "execution_count": 214,
      "outputs": [
        {
          "output_type": "stream",
          "name": "stdout",
          "text": [
            "최적 하이퍼파라미터:  {'randomforestclassifier__max_depth': 5, 'randomforestclassifier__max_features': 0.8753565120885833, 'randomforestclassifier__n_estimators': 287, 'simpleimputer__strategy': 'mean'}\n",
            "MAE:  0.2971160295103957\n"
          ]
        }
      ]
    },
    {
      "cell_type": "code",
      "metadata": {
        "id": "0cUa5WR0RyY7"
      },
      "source": [
        "pipe = clf.best_estimator_\n",
        "y_pred = pipe.predict(X_val)"
      ],
      "execution_count": 215,
      "outputs": []
    },
    {
      "cell_type": "code",
      "metadata": {
        "colab": {
          "base_uri": "https://localhost:8080/"
        },
        "id": "ttcW7Q17RznC",
        "outputId": "64a700a0-e349-407d-ad2f-af8c0afeba6d"
      },
      "source": [
        "F1_score = f1_score(y_pred, y_val)\n",
        "F1_score"
      ],
      "execution_count": 216,
      "outputs": [
        {
          "output_type": "execute_result",
          "data": {
            "text/plain": [
              "0.8536585365853657"
            ]
          },
          "metadata": {},
          "execution_count": 216
        }
      ]
    },
    {
      "cell_type": "code",
      "metadata": {
        "id": "DACm_Ts3xlEG"
      },
      "source": [
        "from sklearn.linear_model import LogisticRegression\n",
        "from sklearn import datasets\n",
        "import pickle\n",
        "from sklearn.externals import joblib"
      ],
      "execution_count": 217,
      "outputs": []
    },
    {
      "cell_type": "code",
      "metadata": {
        "id": "zjgE23Mkxikm"
      },
      "source": [
        "saved_model = pickle.dumps(clf)"
      ],
      "execution_count": 218,
      "outputs": []
    },
    {
      "cell_type": "code",
      "metadata": {
        "id": "_VsaNRMixn24"
      },
      "source": [
        "clf_from_pickle = pickle.loads(saved_model)"
      ],
      "execution_count": 219,
      "outputs": []
    },
    {
      "cell_type": "code",
      "metadata": {
        "colab": {
          "base_uri": "https://localhost:8080/"
        },
        "id": "DC-hr2GTyx0P",
        "outputId": "9658524f-8efd-4847-9dea-64058fa7df6c"
      },
      "source": [
        "joblib.dump(clf, 'coronaa.pkl') "
      ],
      "execution_count": 220,
      "outputs": [
        {
          "output_type": "execute_result",
          "data": {
            "text/plain": [
              "['coronaa.pkl']"
            ]
          },
          "metadata": {},
          "execution_count": 220
        }
      ]
    },
    {
      "cell_type": "code",
      "metadata": {
        "id": "QrwG4uuXyxv4"
      },
      "source": [
        "from sklearn.externals import joblib\n",
        "model = joblib.load('coronaa.pkl') "
      ],
      "execution_count": 222,
      "outputs": []
    },
    {
      "cell_type": "code",
      "metadata": {
        "colab": {
          "base_uri": "https://localhost:8080/"
        },
        "id": "9KAhPEoQzB4B",
        "outputId": "4a55359f-2e7a-40fe-8fdf-66065d4ea6da"
      },
      "source": [
        "model"
      ],
      "execution_count": 223,
      "outputs": [
        {
          "output_type": "execute_result",
          "data": {
            "text/plain": [
              "RandomizedSearchCV(cv=3, error_score=nan,\n",
              "                   estimator=Pipeline(memory=None,\n",
              "                                      steps=[('ordinalencoder',\n",
              "                                              OrdinalEncoder(cols=None,\n",
              "                                                             drop_invariant=False,\n",
              "                                                             handle_missing='value',\n",
              "                                                             handle_unknown='value',\n",
              "                                                             mapping=None,\n",
              "                                                             return_df=True,\n",
              "                                                             verbose=0)),\n",
              "                                             ('simpleimputer',\n",
              "                                              SimpleImputer(add_indicator=False,\n",
              "                                                            copy=True,\n",
              "                                                            fill_value=None,\n",
              "                                                            missing_values=nan,\n",
              "                                                            strategy='mean',\n",
              "                                                            verbose=0)...\n",
              "                                        'randomforestclassifier__max_features': <scipy.stats._distn_infrastructure.rv_frozen object at 0x7fc333ca5a90>,\n",
              "                                        'randomforestclassifier__n_estimators': <scipy.stats._distn_infrastructure.rv_frozen object at 0x7fc333d009d0>,\n",
              "                                        'simpleimputer__strategy': ['mean',\n",
              "                                                                    'median']},\n",
              "                   pre_dispatch='2*n_jobs', random_state=None, refit=True,\n",
              "                   return_train_score=False, scoring='neg_mean_absolute_error',\n",
              "                   verbose=1)"
            ]
          },
          "metadata": {},
          "execution_count": 223
        }
      ]
    },
    {
      "cell_type": "code",
      "metadata": {
        "id": "_A4I9ezc1Ant"
      },
      "source": [
        "conn = psycopg2.connect(\n",
        "    host=\"fanny.db.elephantsql.com\",\n",
        "    database=\"yowummal\",\n",
        "    user=\"yowummal\",\n",
        "    password=\"kE9KWhUhHhZt83Cl-z1waJE9HIG0bgbP\")"
      ],
      "execution_count": 204,
      "outputs": []
    },
    {
      "cell_type": "code",
      "metadata": {
        "colab": {
          "base_uri": "https://localhost:8080/"
        },
        "id": "8w52oNPl1Cbr",
        "outputId": "868800be-a685-4264-b55c-70c95c1e89e1"
      },
      "source": [
        "print(conn)"
      ],
      "execution_count": 205,
      "outputs": [
        {
          "output_type": "stream",
          "name": "stdout",
          "text": [
            "<connection object at 0x7fc334a40b90; dsn: 'user=yowummal password=xxx dbname=yowummal host=fanny.db.elephantsql.com', closed: 0>\n"
          ]
        }
      ]
    },
    {
      "cell_type": "code",
      "metadata": {
        "id": "aeW1JPDD1EYB"
      },
      "source": [
        "conn = sqlite3.connect('coronaa.db')"
      ],
      "execution_count": 207,
      "outputs": []
    },
    {
      "cell_type": "code",
      "metadata": {
        "colab": {
          "base_uri": "https://localhost:8080/"
        },
        "id": "V-P6O-SD1Jop",
        "outputId": "fc566844-e865-40be-9a54-d7f125c908ee"
      },
      "source": [
        "conn"
      ],
      "execution_count": 208,
      "outputs": [
        {
          "output_type": "execute_result",
          "data": {
            "text/plain": [
              "<sqlite3.Connection at 0x7fc3341c1490>"
            ]
          },
          "metadata": {},
          "execution_count": 208
        }
      ]
    },
    {
      "cell_type": "code",
      "metadata": {
        "id": "M1fClvte_9Z9"
      },
      "source": [
        "import pickle\n",
        "with open('coronaa.pkl', 'wb') as m:\n",
        "    pickle.dump(clf.best_estimator_, m)"
      ],
      "execution_count": 224,
      "outputs": []
    }
  ]
}